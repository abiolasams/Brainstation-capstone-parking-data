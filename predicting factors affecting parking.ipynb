{
 "cells": [
  {
   "cell_type": "markdown",
   "metadata": {},
   "source": [
    "# PREDICTING FACTORS THAT INFLUENCING PARKING IN NORTH AMERICAN CITIES"
   ]
  },
  {
   "cell_type": "markdown",
   "metadata": {},
   "source": [
    "### Import all the required libraries"
   ]
  },
  {
   "cell_type": "code",
   "execution_count": 5,
   "metadata": {},
   "outputs": [],
   "source": [
    "import pandas as pd\n",
    "import numpy as np\n",
    "import matplotlib.pyplot as plt\n",
    "import seaborn as sns\n",
    "import html5lib\n",
    "import lxml\n",
    "import requests\n",
    "from bs4 import BeautifulSoup\n",
    "import ast\n",
    "from pandas.io.json import json_normalize"
   ]
  },
  {
   "cell_type": "markdown",
   "metadata": {},
   "source": [
    "##### loading the parking data obtained from kaggle"
   ]
  },
  {
   "cell_type": "code",
   "execution_count": 7,
   "metadata": {},
   "outputs": [],
   "source": [
    "df=pd.read_csv('Searching_for_parking_NA.csv')"
   ]
  },
  {
   "cell_type": "code",
   "execution_count": 8,
   "metadata": {},
   "outputs": [
    {
     "data": {
      "text/html": [
       "<div>\n",
       "<style scoped>\n",
       "    .dataframe tbody tr th:only-of-type {\n",
       "        vertical-align: middle;\n",
       "    }\n",
       "\n",
       "    .dataframe tbody tr th {\n",
       "        vertical-align: top;\n",
       "    }\n",
       "\n",
       "    .dataframe thead th {\n",
       "        text-align: right;\n",
       "    }\n",
       "</style>\n",
       "<table border=\"1\" class=\"dataframe\">\n",
       "  <thead>\n",
       "    <tr style=\"text-align: right;\">\n",
       "      <th></th>\n",
       "      <th>Geohash</th>\n",
       "      <th>GeohashBounds</th>\n",
       "      <th>Latitude_SW</th>\n",
       "      <th>Longitude_SW</th>\n",
       "      <th>Latitude_NE</th>\n",
       "      <th>Longitude_NE</th>\n",
       "      <th>Location</th>\n",
       "      <th>Latitude</th>\n",
       "      <th>Longitude</th>\n",
       "      <th>City</th>\n",
       "      <th>...</th>\n",
       "      <th>HourlyDistribution</th>\n",
       "      <th>SearchingByHour</th>\n",
       "      <th>PercentCar</th>\n",
       "      <th>PercentMPV</th>\n",
       "      <th>PercentLDT</th>\n",
       "      <th>PercentMDT</th>\n",
       "      <th>PercentHDT</th>\n",
       "      <th>PercentOther</th>\n",
       "      <th>UpdateDate</th>\n",
       "      <th>Version</th>\n",
       "    </tr>\n",
       "  </thead>\n",
       "  <tbody>\n",
       "    <tr>\n",
       "      <th>0</th>\n",
       "      <td>c3nftjv</td>\n",
       "      <td>POLYGON((-114.031219482422 51.0960388183594, -...</td>\n",
       "      <td>51.096</td>\n",
       "      <td>-114.031</td>\n",
       "      <td>51.097</td>\n",
       "      <td>-114.030</td>\n",
       "      <td>POINT(-114.03066 51.09692)</td>\n",
       "      <td>51.097</td>\n",
       "      <td>-114.031</td>\n",
       "      <td>Calgary</td>\n",
       "      <td>...</td>\n",
       "      <td>{\"00\": null, \"01\": null, \"02\": null, \"03\": nul...</td>\n",
       "      <td>{\"00\": null, \"01\": null, \"02\": null, \"03\": nul...</td>\n",
       "      <td>0.0</td>\n",
       "      <td>0.000</td>\n",
       "      <td>0.600</td>\n",
       "      <td>0.200</td>\n",
       "      <td>0.000</td>\n",
       "      <td>0.200</td>\n",
       "      <td>2020-10-02</td>\n",
       "      <td>2.2</td>\n",
       "    </tr>\n",
       "    <tr>\n",
       "      <th>1</th>\n",
       "      <td>c3nfhhp</td>\n",
       "      <td>POLYGON((-114.072418212891 50.99853515625, -11...</td>\n",
       "      <td>50.999</td>\n",
       "      <td>-114.072</td>\n",
       "      <td>51.000</td>\n",
       "      <td>-114.071</td>\n",
       "      <td>POINT(-114.07183 50.99918)</td>\n",
       "      <td>50.999</td>\n",
       "      <td>-114.072</td>\n",
       "      <td>Calgary</td>\n",
       "      <td>...</td>\n",
       "      <td>{\"00\": null, \"01\": null, \"02\": null, \"03\": nul...</td>\n",
       "      <td>{\"00\": null, \"01\": null, \"02\": null, \"03\": nul...</td>\n",
       "      <td>0.0</td>\n",
       "      <td>0.222</td>\n",
       "      <td>0.778</td>\n",
       "      <td>0.000</td>\n",
       "      <td>0.000</td>\n",
       "      <td>0.000</td>\n",
       "      <td>2020-10-02</td>\n",
       "      <td>2.2</td>\n",
       "    </tr>\n",
       "    <tr>\n",
       "      <th>2</th>\n",
       "      <td>c3nfkkn</td>\n",
       "      <td>POLYGON((-114.062805175781 51.04248046875, -11...</td>\n",
       "      <td>51.042</td>\n",
       "      <td>-114.063</td>\n",
       "      <td>51.044</td>\n",
       "      <td>-114.061</td>\n",
       "      <td>POINT(-114.06217 51.04336)</td>\n",
       "      <td>51.043</td>\n",
       "      <td>-114.062</td>\n",
       "      <td>Calgary</td>\n",
       "      <td>...</td>\n",
       "      <td>{\"00\": null, \"01\": null, \"02\": null, \"03\": nul...</td>\n",
       "      <td>{\"00\": null, \"01\": null, \"02\": null, \"03\": nul...</td>\n",
       "      <td>0.5</td>\n",
       "      <td>0.000</td>\n",
       "      <td>0.333</td>\n",
       "      <td>0.000</td>\n",
       "      <td>0.000</td>\n",
       "      <td>0.167</td>\n",
       "      <td>2020-10-02</td>\n",
       "      <td>2.2</td>\n",
       "    </tr>\n",
       "    <tr>\n",
       "      <th>3</th>\n",
       "      <td>c3nfdmh</td>\n",
       "      <td>POLYGON((-114.153442382812 51.0919189453125, -...</td>\n",
       "      <td>51.092</td>\n",
       "      <td>-114.153</td>\n",
       "      <td>51.093</td>\n",
       "      <td>-114.152</td>\n",
       "      <td>POINT(-114.15236 51.09233)</td>\n",
       "      <td>51.092</td>\n",
       "      <td>-114.152</td>\n",
       "      <td>Calgary</td>\n",
       "      <td>...</td>\n",
       "      <td>{\"00\": null, \"01\": null, \"02\": null, \"03\": nul...</td>\n",
       "      <td>{\"00\": null, \"01\": null, \"02\": null, \"03\": nul...</td>\n",
       "      <td>0.0</td>\n",
       "      <td>0.750</td>\n",
       "      <td>0.125</td>\n",
       "      <td>0.000</td>\n",
       "      <td>0.125</td>\n",
       "      <td>0.000</td>\n",
       "      <td>2020-10-02</td>\n",
       "      <td>2.2</td>\n",
       "    </tr>\n",
       "    <tr>\n",
       "      <th>4</th>\n",
       "      <td>c3nfkjh</td>\n",
       "      <td>POLYGON((-114.076538085938 51.0479736328125, -...</td>\n",
       "      <td>51.048</td>\n",
       "      <td>-114.077</td>\n",
       "      <td>51.049</td>\n",
       "      <td>-114.075</td>\n",
       "      <td>POINT(-114.07592 51.04845)</td>\n",
       "      <td>51.048</td>\n",
       "      <td>-114.076</td>\n",
       "      <td>Calgary</td>\n",
       "      <td>...</td>\n",
       "      <td>{\"00\": null, \"01\": null, \"02\": null, \"03\": nul...</td>\n",
       "      <td>{\"00\": null, \"01\": null, \"02\": null, \"03\": nul...</td>\n",
       "      <td>0.0</td>\n",
       "      <td>0.000</td>\n",
       "      <td>0.833</td>\n",
       "      <td>0.167</td>\n",
       "      <td>0.000</td>\n",
       "      <td>0.000</td>\n",
       "      <td>2020-10-02</td>\n",
       "      <td>2.2</td>\n",
       "    </tr>\n",
       "  </tbody>\n",
       "</table>\n",
       "<p>5 rows × 31 columns</p>\n",
       "</div>"
      ],
      "text/plain": [
       "   Geohash                                      GeohashBounds  Latitude_SW  \\\n",
       "0  c3nftjv  POLYGON((-114.031219482422 51.0960388183594, -...       51.096   \n",
       "1  c3nfhhp  POLYGON((-114.072418212891 50.99853515625, -11...       50.999   \n",
       "2  c3nfkkn  POLYGON((-114.062805175781 51.04248046875, -11...       51.042   \n",
       "3  c3nfdmh  POLYGON((-114.153442382812 51.0919189453125, -...       51.092   \n",
       "4  c3nfkjh  POLYGON((-114.076538085938 51.0479736328125, -...       51.048   \n",
       "\n",
       "   Longitude_SW  Latitude_NE  Longitude_NE                    Location  \\\n",
       "0      -114.031       51.097      -114.030  POINT(-114.03066 51.09692)   \n",
       "1      -114.072       51.000      -114.071  POINT(-114.07183 50.99918)   \n",
       "2      -114.063       51.044      -114.061  POINT(-114.06217 51.04336)   \n",
       "3      -114.153       51.093      -114.152  POINT(-114.15236 51.09233)   \n",
       "4      -114.077       51.049      -114.075  POINT(-114.07592 51.04845)   \n",
       "\n",
       "   Latitude  Longitude     City  ...  \\\n",
       "0    51.097   -114.031  Calgary  ...   \n",
       "1    50.999   -114.072  Calgary  ...   \n",
       "2    51.043   -114.062  Calgary  ...   \n",
       "3    51.092   -114.152  Calgary  ...   \n",
       "4    51.048   -114.076  Calgary  ...   \n",
       "\n",
       "                                  HourlyDistribution  \\\n",
       "0  {\"00\": null, \"01\": null, \"02\": null, \"03\": nul...   \n",
       "1  {\"00\": null, \"01\": null, \"02\": null, \"03\": nul...   \n",
       "2  {\"00\": null, \"01\": null, \"02\": null, \"03\": nul...   \n",
       "3  {\"00\": null, \"01\": null, \"02\": null, \"03\": nul...   \n",
       "4  {\"00\": null, \"01\": null, \"02\": null, \"03\": nul...   \n",
       "\n",
       "                                     SearchingByHour PercentCar PercentMPV  \\\n",
       "0  {\"00\": null, \"01\": null, \"02\": null, \"03\": nul...        0.0      0.000   \n",
       "1  {\"00\": null, \"01\": null, \"02\": null, \"03\": nul...        0.0      0.222   \n",
       "2  {\"00\": null, \"01\": null, \"02\": null, \"03\": nul...        0.5      0.000   \n",
       "3  {\"00\": null, \"01\": null, \"02\": null, \"03\": nul...        0.0      0.750   \n",
       "4  {\"00\": null, \"01\": null, \"02\": null, \"03\": nul...        0.0      0.000   \n",
       "\n",
       "   PercentLDT  PercentMDT  PercentHDT  PercentOther  UpdateDate  Version  \n",
       "0       0.600       0.200       0.000         0.200  2020-10-02      2.2  \n",
       "1       0.778       0.000       0.000         0.000  2020-10-02      2.2  \n",
       "2       0.333       0.000       0.000         0.167  2020-10-02      2.2  \n",
       "3       0.125       0.000       0.125         0.000  2020-10-02      2.2  \n",
       "4       0.833       0.167       0.000         0.000  2020-10-02      2.2  \n",
       "\n",
       "[5 rows x 31 columns]"
      ]
     },
     "execution_count": 8,
     "metadata": {},
     "output_type": "execute_result"
    }
   ],
   "source": [
    "df.head()"
   ]
  },
  {
   "cell_type": "markdown",
   "metadata": {},
   "source": [
    "##### Cleaning the original kaggle data since SearchingByHour and HourlyDistribution are in json object formats"
   ]
  },
  {
   "cell_type": "code",
   "execution_count": 9,
   "metadata": {},
   "outputs": [],
   "source": [
    "#converting null to 0 for the selected columns\n",
    "df['SearchingByHour']=df['SearchingByHour'].str.replace(\"null\",\"0\")\n",
    "df['HourlyDistribution']=df['HourlyDistribution'].str.replace(\"null\",\"0\")"
   ]
  },
  {
   "cell_type": "code",
   "execution_count": 10,
   "metadata": {},
   "outputs": [],
   "source": [
    "#converting the columns to string\n",
    "df['SearchingByHour']=df['SearchingByHour'].apply(ast.literal_eval)\n",
    "df['HourlyDistribution']=df['HourlyDistribution'].apply(ast.literal_eval)"
   ]
  },
  {
   "cell_type": "code",
   "execution_count": 11,
   "metadata": {},
   "outputs": [
    {
     "name": "stderr",
     "output_type": "stream",
     "text": [
      "/home/jupyterlab/conda/envs/python/lib/python3.6/site-packages/ipykernel_launcher.py:2: FutureWarning: pandas.io.json.json_normalize is deprecated, use pandas.json_normalize instead\n",
      "  \n",
      "/home/jupyterlab/conda/envs/python/lib/python3.6/site-packages/ipykernel_launcher.py:5: FutureWarning: pandas.io.json.json_normalize is deprecated, use pandas.json_normalize instead\n",
      "  \"\"\"\n"
     ]
    }
   ],
   "source": [
    "#putting the JSON object into a workable format for pandas\n",
    "dict_cols = pd.DataFrame(json_normalize(df[\"SearchingByHour\"]).stack()).reset_index(level=1)\n",
    "dict_cols.columns = ['hours_1','search_values']\n",
    "\n",
    "dict_cols2 = pd.DataFrame(json_normalize(df[\"HourlyDistribution\"]).stack()).reset_index(level=1)\n",
    "dict_cols2.columns = ['hours','hd_values']"
   ]
  },
  {
   "cell_type": "markdown",
   "metadata": {},
   "source": [
    "### Webscraping from wikipedia"
   ]
  },
  {
   "cell_type": "code",
   "execution_count": 12,
   "metadata": {},
   "outputs": [],
   "source": [
    "table = pd.read_html('https://en.wikipedia.org/wiki/List_of_North_American_cities_by_population')\n",
    "tabs=table[0]"
   ]
  },
  {
   "cell_type": "code",
   "execution_count": 13,
   "metadata": {},
   "outputs": [
    {
     "data": {
      "text/html": [
       "<div>\n",
       "<style scoped>\n",
       "    .dataframe tbody tr th:only-of-type {\n",
       "        vertical-align: middle;\n",
       "    }\n",
       "\n",
       "    .dataframe tbody tr th {\n",
       "        vertical-align: top;\n",
       "    }\n",
       "\n",
       "    .dataframe thead th {\n",
       "        text-align: right;\n",
       "    }\n",
       "</style>\n",
       "<table border=\"1\" class=\"dataframe\">\n",
       "  <thead>\n",
       "    <tr style=\"text-align: right;\">\n",
       "      <th></th>\n",
       "      <th>Unnamed: 0</th>\n",
       "      <th>City</th>\n",
       "      <th>Image</th>\n",
       "      <th>Country</th>\n",
       "      <th>Population</th>\n",
       "      <th>Year</th>\n",
       "    </tr>\n",
       "  </thead>\n",
       "  <tbody>\n",
       "    <tr>\n",
       "      <th>0</th>\n",
       "      <td>1</td>\n",
       "      <td>Mexico City</td>\n",
       "      <td>NaN</td>\n",
       "      <td>Mexico</td>\n",
       "      <td>8,918,653[a][3][4]</td>\n",
       "      <td>2015[b]</td>\n",
       "    </tr>\n",
       "    <tr>\n",
       "      <th>1</th>\n",
       "      <td>2</td>\n",
       "      <td>New York City</td>\n",
       "      <td>NaN</td>\n",
       "      <td>United States</td>\n",
       "      <td>8,550,405[5]</td>\n",
       "      <td>2015</td>\n",
       "    </tr>\n",
       "    <tr>\n",
       "      <th>2</th>\n",
       "      <td>3</td>\n",
       "      <td>Los Angeles</td>\n",
       "      <td>NaN</td>\n",
       "      <td>United States</td>\n",
       "      <td>3,971,883[5]</td>\n",
       "      <td>2015</td>\n",
       "    </tr>\n",
       "    <tr>\n",
       "      <th>3</th>\n",
       "      <td>4</td>\n",
       "      <td>Toronto</td>\n",
       "      <td>NaN</td>\n",
       "      <td>Canada</td>\n",
       "      <td>2,826,498[c][7]</td>\n",
       "      <td>2015</td>\n",
       "    </tr>\n",
       "    <tr>\n",
       "      <th>4</th>\n",
       "      <td>5</td>\n",
       "      <td>Chicago</td>\n",
       "      <td>NaN</td>\n",
       "      <td>United States</td>\n",
       "      <td>2,720,546[5]</td>\n",
       "      <td>2015</td>\n",
       "    </tr>\n",
       "  </tbody>\n",
       "</table>\n",
       "</div>"
      ],
      "text/plain": [
       "   Unnamed: 0           City  Image        Country          Population  \\\n",
       "0           1    Mexico City    NaN         Mexico  8,918,653[a][3][4]   \n",
       "1           2  New York City    NaN  United States        8,550,405[5]   \n",
       "2           3    Los Angeles    NaN  United States        3,971,883[5]   \n",
       "3           4        Toronto    NaN         Canada     2,826,498[c][7]   \n",
       "4           5        Chicago    NaN  United States        2,720,546[5]   \n",
       "\n",
       "      Year  \n",
       "0  2015[b]  \n",
       "1     2015  \n",
       "2     2015  \n",
       "3     2015  \n",
       "4     2015  "
      ]
     },
     "execution_count": 13,
     "metadata": {},
     "output_type": "execute_result"
    }
   ],
   "source": [
    "tabs.head()"
   ]
  },
  {
   "cell_type": "markdown",
   "metadata": {},
   "source": [
    "##### Cleaning the webscraped data"
   ]
  },
  {
   "cell_type": "code",
   "execution_count": 14,
   "metadata": {},
   "outputs": [],
   "source": [
    "#removing the references from the population column\n",
    "new = tabs['Population'].str.split(\"[\", n = 1, expand = True) \n",
    "tabs[\"pop\"]= new[0] "
   ]
  },
  {
   "cell_type": "code",
   "execution_count": 15,
   "metadata": {},
   "outputs": [],
   "source": [
    "#removing commas in the population column\n",
    "tabs['pop']=tabs['pop'].apply(lambda x: float(x.split()[0].replace(\",\",\"\")))"
   ]
  },
  {
   "cell_type": "code",
   "execution_count": 16,
   "metadata": {},
   "outputs": [],
   "source": [
    "#for further merges or join New York city has to be edited \n",
    "tabs[\"City\"]= tabs[\"City\"].replace('New York City', \"New York\") "
   ]
  },
  {
   "cell_type": "code",
   "execution_count": 17,
   "metadata": {},
   "outputs": [
    {
     "data": {
      "text/html": [
       "<div>\n",
       "<style scoped>\n",
       "    .dataframe tbody tr th:only-of-type {\n",
       "        vertical-align: middle;\n",
       "    }\n",
       "\n",
       "    .dataframe tbody tr th {\n",
       "        vertical-align: top;\n",
       "    }\n",
       "\n",
       "    .dataframe thead th {\n",
       "        text-align: right;\n",
       "    }\n",
       "</style>\n",
       "<table border=\"1\" class=\"dataframe\">\n",
       "  <thead>\n",
       "    <tr style=\"text-align: right;\">\n",
       "      <th></th>\n",
       "      <th>Unnamed: 0</th>\n",
       "      <th>City</th>\n",
       "      <th>Image</th>\n",
       "      <th>Country</th>\n",
       "      <th>Population</th>\n",
       "      <th>Year</th>\n",
       "      <th>pop</th>\n",
       "    </tr>\n",
       "  </thead>\n",
       "  <tbody>\n",
       "    <tr>\n",
       "      <th>0</th>\n",
       "      <td>1</td>\n",
       "      <td>Mexico City</td>\n",
       "      <td>NaN</td>\n",
       "      <td>Mexico</td>\n",
       "      <td>8,918,653[a][3][4]</td>\n",
       "      <td>2015[b]</td>\n",
       "      <td>8918653.0</td>\n",
       "    </tr>\n",
       "    <tr>\n",
       "      <th>1</th>\n",
       "      <td>2</td>\n",
       "      <td>New York</td>\n",
       "      <td>NaN</td>\n",
       "      <td>United States</td>\n",
       "      <td>8,550,405[5]</td>\n",
       "      <td>2015</td>\n",
       "      <td>8550405.0</td>\n",
       "    </tr>\n",
       "    <tr>\n",
       "      <th>2</th>\n",
       "      <td>3</td>\n",
       "      <td>Los Angeles</td>\n",
       "      <td>NaN</td>\n",
       "      <td>United States</td>\n",
       "      <td>3,971,883[5]</td>\n",
       "      <td>2015</td>\n",
       "      <td>3971883.0</td>\n",
       "    </tr>\n",
       "    <tr>\n",
       "      <th>3</th>\n",
       "      <td>4</td>\n",
       "      <td>Toronto</td>\n",
       "      <td>NaN</td>\n",
       "      <td>Canada</td>\n",
       "      <td>2,826,498[c][7]</td>\n",
       "      <td>2015</td>\n",
       "      <td>2826498.0</td>\n",
       "    </tr>\n",
       "    <tr>\n",
       "      <th>4</th>\n",
       "      <td>5</td>\n",
       "      <td>Chicago</td>\n",
       "      <td>NaN</td>\n",
       "      <td>United States</td>\n",
       "      <td>2,720,546[5]</td>\n",
       "      <td>2015</td>\n",
       "      <td>2720546.0</td>\n",
       "    </tr>\n",
       "  </tbody>\n",
       "</table>\n",
       "</div>"
      ],
      "text/plain": [
       "   Unnamed: 0         City  Image        Country          Population     Year  \\\n",
       "0           1  Mexico City    NaN         Mexico  8,918,653[a][3][4]  2015[b]   \n",
       "1           2     New York    NaN  United States        8,550,405[5]     2015   \n",
       "2           3  Los Angeles    NaN  United States        3,971,883[5]     2015   \n",
       "3           4      Toronto    NaN         Canada     2,826,498[c][7]     2015   \n",
       "4           5      Chicago    NaN  United States        2,720,546[5]     2015   \n",
       "\n",
       "         pop  \n",
       "0  8918653.0  \n",
       "1  8550405.0  \n",
       "2  3971883.0  \n",
       "3  2826498.0  \n",
       "4  2720546.0  "
      ]
     },
     "execution_count": 17,
     "metadata": {},
     "output_type": "execute_result"
    }
   ],
   "source": [
    "#the pop column showing the cleaned up output of the initial population column\n",
    "tabs.head()"
   ]
  },
  {
   "cell_type": "markdown",
   "metadata": {},
   "source": [
    "### Webscraping GDP data "
   ]
  },
  {
   "cell_type": "code",
   "execution_count": 18,
   "metadata": {},
   "outputs": [],
   "source": [
    "gdps = pd.read_html('https://en.wikipedia.org/wiki/List_of_cities_by_GDP_(PPP)_per_capita')\n",
    "gdp=gdps[0]\n",
    "gdp.columns=['Metro_ID','City','GDP_per_capita']"
   ]
  },
  {
   "cell_type": "code",
   "execution_count": 19,
   "metadata": {},
   "outputs": [
    {
     "data": {
      "text/html": [
       "<div>\n",
       "<style scoped>\n",
       "    .dataframe tbody tr th:only-of-type {\n",
       "        vertical-align: middle;\n",
       "    }\n",
       "\n",
       "    .dataframe tbody tr th {\n",
       "        vertical-align: top;\n",
       "    }\n",
       "\n",
       "    .dataframe thead th {\n",
       "        text-align: right;\n",
       "    }\n",
       "</style>\n",
       "<table border=\"1\" class=\"dataframe\">\n",
       "  <thead>\n",
       "    <tr style=\"text-align: right;\">\n",
       "      <th></th>\n",
       "      <th>Metro_ID</th>\n",
       "      <th>City</th>\n",
       "      <th>GDP_per_capita</th>\n",
       "    </tr>\n",
       "  </thead>\n",
       "  <tbody>\n",
       "    <tr>\n",
       "      <th>0</th>\n",
       "      <td>USA05</td>\n",
       "      <td>San Francisco (Greater)</td>\n",
       "      <td>94699</td>\n",
       "    </tr>\n",
       "    <tr>\n",
       "      <th>1</th>\n",
       "      <td>LU001</td>\n",
       "      <td>Luxembourg</td>\n",
       "      <td>88312</td>\n",
       "    </tr>\n",
       "    <tr>\n",
       "      <th>2</th>\n",
       "      <td>USA14</td>\n",
       "      <td>Seattle</td>\n",
       "      <td>78262</td>\n",
       "    </tr>\n",
       "    <tr>\n",
       "      <th>3</th>\n",
       "      <td>USA11</td>\n",
       "      <td>Boston</td>\n",
       "      <td>78183</td>\n",
       "    </tr>\n",
       "    <tr>\n",
       "      <th>4</th>\n",
       "      <td>USA01</td>\n",
       "      <td>New York (Greater)</td>\n",
       "      <td>74244</td>\n",
       "    </tr>\n",
       "  </tbody>\n",
       "</table>\n",
       "</div>"
      ],
      "text/plain": [
       "  Metro_ID                     City  GDP_per_capita\n",
       "0    USA05  San Francisco (Greater)           94699\n",
       "1    LU001               Luxembourg           88312\n",
       "2    USA14                  Seattle           78262\n",
       "3    USA11                   Boston           78183\n",
       "4    USA01       New York (Greater)           74244"
      ]
     },
     "execution_count": 19,
     "metadata": {},
     "output_type": "execute_result"
    }
   ],
   "source": [
    "gdp.head()"
   ]
  },
  {
   "cell_type": "markdown",
   "metadata": {},
   "source": [
    "##### Cleaning the GDP data"
   ]
  },
  {
   "cell_type": "code",
   "execution_count": 20,
   "metadata": {},
   "outputs": [],
   "source": [
    "# removing references or brackets from the column\n",
    "new = gdp['City'].str.split(\"(\", n = 1, expand = True) \n",
    "gdp[\"City\"]= new[0] \n",
    "\n",
    "#removing white spaces from the end of the data\n",
    "gdp['City']=gdp['City'].str.rstrip()"
   ]
  },
  {
   "cell_type": "code",
   "execution_count": 21,
   "metadata": {},
   "outputs": [
    {
     "data": {
      "text/html": [
       "<div>\n",
       "<style scoped>\n",
       "    .dataframe tbody tr th:only-of-type {\n",
       "        vertical-align: middle;\n",
       "    }\n",
       "\n",
       "    .dataframe tbody tr th {\n",
       "        vertical-align: top;\n",
       "    }\n",
       "\n",
       "    .dataframe thead th {\n",
       "        text-align: right;\n",
       "    }\n",
       "</style>\n",
       "<table border=\"1\" class=\"dataframe\">\n",
       "  <thead>\n",
       "    <tr style=\"text-align: right;\">\n",
       "      <th></th>\n",
       "      <th>Metro_ID</th>\n",
       "      <th>City</th>\n",
       "      <th>GDP_per_capita</th>\n",
       "    </tr>\n",
       "  </thead>\n",
       "  <tbody>\n",
       "    <tr>\n",
       "      <th>0</th>\n",
       "      <td>USA05</td>\n",
       "      <td>San Francisco</td>\n",
       "      <td>94699</td>\n",
       "    </tr>\n",
       "    <tr>\n",
       "      <th>1</th>\n",
       "      <td>LU001</td>\n",
       "      <td>Luxembourg</td>\n",
       "      <td>88312</td>\n",
       "    </tr>\n",
       "    <tr>\n",
       "      <th>2</th>\n",
       "      <td>USA14</td>\n",
       "      <td>Seattle</td>\n",
       "      <td>78262</td>\n",
       "    </tr>\n",
       "    <tr>\n",
       "      <th>3</th>\n",
       "      <td>USA11</td>\n",
       "      <td>Boston</td>\n",
       "      <td>78183</td>\n",
       "    </tr>\n",
       "    <tr>\n",
       "      <th>4</th>\n",
       "      <td>USA01</td>\n",
       "      <td>New York</td>\n",
       "      <td>74244</td>\n",
       "    </tr>\n",
       "  </tbody>\n",
       "</table>\n",
       "</div>"
      ],
      "text/plain": [
       "  Metro_ID           City  GDP_per_capita\n",
       "0    USA05  San Francisco           94699\n",
       "1    LU001     Luxembourg           88312\n",
       "2    USA14        Seattle           78262\n",
       "3    USA11         Boston           78183\n",
       "4    USA01       New York           74244"
      ]
     },
     "execution_count": 21,
     "metadata": {},
     "output_type": "execute_result"
    }
   ],
   "source": [
    "gdp.head()"
   ]
  },
  {
   "cell_type": "markdown",
   "metadata": {},
   "source": [
    "##### merging the kaggle data and the webscraped data into one dataframe"
   ]
  },
  {
   "cell_type": "code",
   "execution_count": 25,
   "metadata": {},
   "outputs": [],
   "source": [
    "#joining the columns to the df database\n",
    "parking = pd.concat([df, dict_cols], axis=1)\n",
    "parking=pd.concat([parking,dict_cols2],axis=1)"
   ]
  },
  {
   "cell_type": "code",
   "execution_count": 26,
   "metadata": {},
   "outputs": [
    {
     "data": {
      "text/html": [
       "<div>\n",
       "<style scoped>\n",
       "    .dataframe tbody tr th:only-of-type {\n",
       "        vertical-align: middle;\n",
       "    }\n",
       "\n",
       "    .dataframe tbody tr th {\n",
       "        vertical-align: top;\n",
       "    }\n",
       "\n",
       "    .dataframe thead th {\n",
       "        text-align: right;\n",
       "    }\n",
       "</style>\n",
       "<table border=\"1\" class=\"dataframe\">\n",
       "  <thead>\n",
       "    <tr style=\"text-align: right;\">\n",
       "      <th></th>\n",
       "      <th>Geohash</th>\n",
       "      <th>GeohashBounds</th>\n",
       "      <th>Latitude_SW</th>\n",
       "      <th>Longitude_SW</th>\n",
       "      <th>Latitude_NE</th>\n",
       "      <th>Longitude_NE</th>\n",
       "      <th>Location</th>\n",
       "      <th>Latitude</th>\n",
       "      <th>Longitude</th>\n",
       "      <th>City</th>\n",
       "      <th>...</th>\n",
       "      <th>PercentLDT</th>\n",
       "      <th>PercentMDT</th>\n",
       "      <th>PercentHDT</th>\n",
       "      <th>PercentOther</th>\n",
       "      <th>UpdateDate</th>\n",
       "      <th>Version</th>\n",
       "      <th>hours_1</th>\n",
       "      <th>search_values</th>\n",
       "      <th>hours</th>\n",
       "      <th>hd_values</th>\n",
       "    </tr>\n",
       "  </thead>\n",
       "  <tbody>\n",
       "    <tr>\n",
       "      <th>0</th>\n",
       "      <td>c3nftjv</td>\n",
       "      <td>POLYGON((-114.031219482422 51.0960388183594, -...</td>\n",
       "      <td>51.096</td>\n",
       "      <td>-114.031</td>\n",
       "      <td>51.097</td>\n",
       "      <td>-114.03</td>\n",
       "      <td>POINT(-114.03066 51.09692)</td>\n",
       "      <td>51.097</td>\n",
       "      <td>-114.031</td>\n",
       "      <td>Calgary</td>\n",
       "      <td>...</td>\n",
       "      <td>0.6</td>\n",
       "      <td>0.2</td>\n",
       "      <td>0.0</td>\n",
       "      <td>0.2</td>\n",
       "      <td>2020-10-02</td>\n",
       "      <td>2.2</td>\n",
       "      <td>00</td>\n",
       "      <td>0.0</td>\n",
       "      <td>00</td>\n",
       "      <td>0.0</td>\n",
       "    </tr>\n",
       "    <tr>\n",
       "      <th>0</th>\n",
       "      <td>c3nftjv</td>\n",
       "      <td>POLYGON((-114.031219482422 51.0960388183594, -...</td>\n",
       "      <td>51.096</td>\n",
       "      <td>-114.031</td>\n",
       "      <td>51.097</td>\n",
       "      <td>-114.03</td>\n",
       "      <td>POINT(-114.03066 51.09692)</td>\n",
       "      <td>51.097</td>\n",
       "      <td>-114.031</td>\n",
       "      <td>Calgary</td>\n",
       "      <td>...</td>\n",
       "      <td>0.6</td>\n",
       "      <td>0.2</td>\n",
       "      <td>0.0</td>\n",
       "      <td>0.2</td>\n",
       "      <td>2020-10-02</td>\n",
       "      <td>2.2</td>\n",
       "      <td>01</td>\n",
       "      <td>0.0</td>\n",
       "      <td>01</td>\n",
       "      <td>0.0</td>\n",
       "    </tr>\n",
       "    <tr>\n",
       "      <th>0</th>\n",
       "      <td>c3nftjv</td>\n",
       "      <td>POLYGON((-114.031219482422 51.0960388183594, -...</td>\n",
       "      <td>51.096</td>\n",
       "      <td>-114.031</td>\n",
       "      <td>51.097</td>\n",
       "      <td>-114.03</td>\n",
       "      <td>POINT(-114.03066 51.09692)</td>\n",
       "      <td>51.097</td>\n",
       "      <td>-114.031</td>\n",
       "      <td>Calgary</td>\n",
       "      <td>...</td>\n",
       "      <td>0.6</td>\n",
       "      <td>0.2</td>\n",
       "      <td>0.0</td>\n",
       "      <td>0.2</td>\n",
       "      <td>2020-10-02</td>\n",
       "      <td>2.2</td>\n",
       "      <td>02</td>\n",
       "      <td>0.0</td>\n",
       "      <td>02</td>\n",
       "      <td>0.0</td>\n",
       "    </tr>\n",
       "    <tr>\n",
       "      <th>0</th>\n",
       "      <td>c3nftjv</td>\n",
       "      <td>POLYGON((-114.031219482422 51.0960388183594, -...</td>\n",
       "      <td>51.096</td>\n",
       "      <td>-114.031</td>\n",
       "      <td>51.097</td>\n",
       "      <td>-114.03</td>\n",
       "      <td>POINT(-114.03066 51.09692)</td>\n",
       "      <td>51.097</td>\n",
       "      <td>-114.031</td>\n",
       "      <td>Calgary</td>\n",
       "      <td>...</td>\n",
       "      <td>0.6</td>\n",
       "      <td>0.2</td>\n",
       "      <td>0.0</td>\n",
       "      <td>0.2</td>\n",
       "      <td>2020-10-02</td>\n",
       "      <td>2.2</td>\n",
       "      <td>03</td>\n",
       "      <td>0.0</td>\n",
       "      <td>03</td>\n",
       "      <td>0.0</td>\n",
       "    </tr>\n",
       "    <tr>\n",
       "      <th>0</th>\n",
       "      <td>c3nftjv</td>\n",
       "      <td>POLYGON((-114.031219482422 51.0960388183594, -...</td>\n",
       "      <td>51.096</td>\n",
       "      <td>-114.031</td>\n",
       "      <td>51.097</td>\n",
       "      <td>-114.03</td>\n",
       "      <td>POINT(-114.03066 51.09692)</td>\n",
       "      <td>51.097</td>\n",
       "      <td>-114.031</td>\n",
       "      <td>Calgary</td>\n",
       "      <td>...</td>\n",
       "      <td>0.6</td>\n",
       "      <td>0.2</td>\n",
       "      <td>0.0</td>\n",
       "      <td>0.2</td>\n",
       "      <td>2020-10-02</td>\n",
       "      <td>2.2</td>\n",
       "      <td>04</td>\n",
       "      <td>0.0</td>\n",
       "      <td>04</td>\n",
       "      <td>0.0</td>\n",
       "    </tr>\n",
       "  </tbody>\n",
       "</table>\n",
       "<p>5 rows × 35 columns</p>\n",
       "</div>"
      ],
      "text/plain": [
       "   Geohash                                      GeohashBounds  Latitude_SW  \\\n",
       "0  c3nftjv  POLYGON((-114.031219482422 51.0960388183594, -...       51.096   \n",
       "0  c3nftjv  POLYGON((-114.031219482422 51.0960388183594, -...       51.096   \n",
       "0  c3nftjv  POLYGON((-114.031219482422 51.0960388183594, -...       51.096   \n",
       "0  c3nftjv  POLYGON((-114.031219482422 51.0960388183594, -...       51.096   \n",
       "0  c3nftjv  POLYGON((-114.031219482422 51.0960388183594, -...       51.096   \n",
       "\n",
       "   Longitude_SW  Latitude_NE  Longitude_NE                    Location  \\\n",
       "0      -114.031       51.097       -114.03  POINT(-114.03066 51.09692)   \n",
       "0      -114.031       51.097       -114.03  POINT(-114.03066 51.09692)   \n",
       "0      -114.031       51.097       -114.03  POINT(-114.03066 51.09692)   \n",
       "0      -114.031       51.097       -114.03  POINT(-114.03066 51.09692)   \n",
       "0      -114.031       51.097       -114.03  POINT(-114.03066 51.09692)   \n",
       "\n",
       "   Latitude  Longitude     City  ... PercentLDT PercentMDT PercentHDT  \\\n",
       "0    51.097   -114.031  Calgary  ...        0.6        0.2        0.0   \n",
       "0    51.097   -114.031  Calgary  ...        0.6        0.2        0.0   \n",
       "0    51.097   -114.031  Calgary  ...        0.6        0.2        0.0   \n",
       "0    51.097   -114.031  Calgary  ...        0.6        0.2        0.0   \n",
       "0    51.097   -114.031  Calgary  ...        0.6        0.2        0.0   \n",
       "\n",
       "  PercentOther  UpdateDate  Version  hours_1  search_values  hours  hd_values  \n",
       "0          0.2  2020-10-02      2.2       00            0.0     00        0.0  \n",
       "0          0.2  2020-10-02      2.2       01            0.0     01        0.0  \n",
       "0          0.2  2020-10-02      2.2       02            0.0     02        0.0  \n",
       "0          0.2  2020-10-02      2.2       03            0.0     03        0.0  \n",
       "0          0.2  2020-10-02      2.2       04            0.0     04        0.0  \n",
       "\n",
       "[5 rows x 35 columns]"
      ]
     },
     "execution_count": 26,
     "metadata": {},
     "output_type": "execute_result"
    }
   ],
   "source": [
    "parking.head()"
   ]
  },
  {
   "cell_type": "code",
   "execution_count": 27,
   "metadata": {},
   "outputs": [],
   "source": [
    "#joining the cleaned kaggle columns to the population data\n",
    "allin=pd.merge(parking, tabs, how='left', on='City')\n",
    "allin=allin.drop(['Image','Country_y','Population','Year'],axis=1)\n",
    "allin=allin.dropna()"
   ]
  },
  {
   "cell_type": "code",
   "execution_count": 28,
   "metadata": {},
   "outputs": [],
   "source": [
    "#joining the kaggle + population columns to the GDP per capita data\n",
    "allin=pd.merge(allin, gdp, how='left', left_on='City', right_on='City')\n",
    "allin=allin.dropna()"
   ]
  },
  {
   "cell_type": "code",
   "execution_count": 29,
   "metadata": {},
   "outputs": [],
   "source": [
    "allin=allin.drop(['Version','Latitude_SW','Longitude_SW','Latitude_NE','Longitude_NE'],axis=1)\n",
    "allin=allin.drop(['Country_x','PercentOther','UpdateDate','Metro_ID','GeohashBounds','Location'],axis=1)\n",
    "allin=allin.drop(['Geohash','ISO_3166_2','City','County','State','CirclingDistribution','HourlyDistribution','SearchingByHour'],axis=1)\n",
    "allin=allin.drop(['hours_1','Unnamed: 0','Latitude','Longitude'],axis=1)"
   ]
  },
  {
   "cell_type": "code",
   "execution_count": 30,
   "metadata": {},
   "outputs": [
    {
     "data": {
      "text/html": [
       "<div>\n",
       "<style scoped>\n",
       "    .dataframe tbody tr th:only-of-type {\n",
       "        vertical-align: middle;\n",
       "    }\n",
       "\n",
       "    .dataframe tbody tr th {\n",
       "        vertical-align: top;\n",
       "    }\n",
       "\n",
       "    .dataframe thead th {\n",
       "        text-align: right;\n",
       "    }\n",
       "</style>\n",
       "<table border=\"1\" class=\"dataframe\">\n",
       "  <thead>\n",
       "    <tr style=\"text-align: right;\">\n",
       "      <th></th>\n",
       "      <th>AvgTimeToPark</th>\n",
       "      <th>AvgTimeToParkRatio</th>\n",
       "      <th>TotalSearching</th>\n",
       "      <th>PercentSearching</th>\n",
       "      <th>AvgUniqueGeohashes</th>\n",
       "      <th>AvgTotalGeohashes</th>\n",
       "      <th>PercentCar</th>\n",
       "      <th>PercentMPV</th>\n",
       "      <th>PercentLDT</th>\n",
       "      <th>PercentMDT</th>\n",
       "      <th>PercentHDT</th>\n",
       "      <th>search_values</th>\n",
       "      <th>hours</th>\n",
       "      <th>hd_values</th>\n",
       "      <th>pop</th>\n",
       "      <th>GDP_per_capita</th>\n",
       "    </tr>\n",
       "  </thead>\n",
       "  <tbody>\n",
       "    <tr>\n",
       "      <th>216</th>\n",
       "      <td>6.993</td>\n",
       "      <td>1.807</td>\n",
       "      <td>5</td>\n",
       "      <td>0.208</td>\n",
       "      <td>7.0</td>\n",
       "      <td>11.4</td>\n",
       "      <td>0.0</td>\n",
       "      <td>0.0</td>\n",
       "      <td>0.8</td>\n",
       "      <td>0.0</td>\n",
       "      <td>0.0</td>\n",
       "      <td>0.0</td>\n",
       "      <td>00</td>\n",
       "      <td>0.0</td>\n",
       "      <td>1563025.0</td>\n",
       "      <td>44725.0</td>\n",
       "    </tr>\n",
       "    <tr>\n",
       "      <th>217</th>\n",
       "      <td>6.993</td>\n",
       "      <td>1.807</td>\n",
       "      <td>5</td>\n",
       "      <td>0.208</td>\n",
       "      <td>7.0</td>\n",
       "      <td>11.4</td>\n",
       "      <td>0.0</td>\n",
       "      <td>0.0</td>\n",
       "      <td>0.8</td>\n",
       "      <td>0.0</td>\n",
       "      <td>0.0</td>\n",
       "      <td>0.0</td>\n",
       "      <td>01</td>\n",
       "      <td>0.0</td>\n",
       "      <td>1563025.0</td>\n",
       "      <td>44725.0</td>\n",
       "    </tr>\n",
       "    <tr>\n",
       "      <th>218</th>\n",
       "      <td>6.993</td>\n",
       "      <td>1.807</td>\n",
       "      <td>5</td>\n",
       "      <td>0.208</td>\n",
       "      <td>7.0</td>\n",
       "      <td>11.4</td>\n",
       "      <td>0.0</td>\n",
       "      <td>0.0</td>\n",
       "      <td>0.8</td>\n",
       "      <td>0.0</td>\n",
       "      <td>0.0</td>\n",
       "      <td>0.0</td>\n",
       "      <td>02</td>\n",
       "      <td>0.0</td>\n",
       "      <td>1563025.0</td>\n",
       "      <td>44725.0</td>\n",
       "    </tr>\n",
       "    <tr>\n",
       "      <th>219</th>\n",
       "      <td>6.993</td>\n",
       "      <td>1.807</td>\n",
       "      <td>5</td>\n",
       "      <td>0.208</td>\n",
       "      <td>7.0</td>\n",
       "      <td>11.4</td>\n",
       "      <td>0.0</td>\n",
       "      <td>0.0</td>\n",
       "      <td>0.8</td>\n",
       "      <td>0.0</td>\n",
       "      <td>0.0</td>\n",
       "      <td>0.0</td>\n",
       "      <td>03</td>\n",
       "      <td>0.0</td>\n",
       "      <td>1563025.0</td>\n",
       "      <td>44725.0</td>\n",
       "    </tr>\n",
       "    <tr>\n",
       "      <th>220</th>\n",
       "      <td>6.993</td>\n",
       "      <td>1.807</td>\n",
       "      <td>5</td>\n",
       "      <td>0.208</td>\n",
       "      <td>7.0</td>\n",
       "      <td>11.4</td>\n",
       "      <td>0.0</td>\n",
       "      <td>0.0</td>\n",
       "      <td>0.8</td>\n",
       "      <td>0.0</td>\n",
       "      <td>0.0</td>\n",
       "      <td>0.0</td>\n",
       "      <td>04</td>\n",
       "      <td>0.0</td>\n",
       "      <td>1563025.0</td>\n",
       "      <td>44725.0</td>\n",
       "    </tr>\n",
       "  </tbody>\n",
       "</table>\n",
       "</div>"
      ],
      "text/plain": [
       "     AvgTimeToPark  AvgTimeToParkRatio  TotalSearching  PercentSearching  \\\n",
       "216          6.993               1.807               5             0.208   \n",
       "217          6.993               1.807               5             0.208   \n",
       "218          6.993               1.807               5             0.208   \n",
       "219          6.993               1.807               5             0.208   \n",
       "220          6.993               1.807               5             0.208   \n",
       "\n",
       "     AvgUniqueGeohashes  AvgTotalGeohashes  PercentCar  PercentMPV  \\\n",
       "216                 7.0               11.4         0.0         0.0   \n",
       "217                 7.0               11.4         0.0         0.0   \n",
       "218                 7.0               11.4         0.0         0.0   \n",
       "219                 7.0               11.4         0.0         0.0   \n",
       "220                 7.0               11.4         0.0         0.0   \n",
       "\n",
       "     PercentLDT  PercentMDT  PercentHDT  search_values hours  hd_values  \\\n",
       "216         0.8         0.0         0.0            0.0    00        0.0   \n",
       "217         0.8         0.0         0.0            0.0    01        0.0   \n",
       "218         0.8         0.0         0.0            0.0    02        0.0   \n",
       "219         0.8         0.0         0.0            0.0    03        0.0   \n",
       "220         0.8         0.0         0.0            0.0    04        0.0   \n",
       "\n",
       "           pop  GDP_per_capita  \n",
       "216  1563025.0         44725.0  \n",
       "217  1563025.0         44725.0  \n",
       "218  1563025.0         44725.0  \n",
       "219  1563025.0         44725.0  \n",
       "220  1563025.0         44725.0  "
      ]
     },
     "execution_count": 30,
     "metadata": {},
     "output_type": "execute_result"
    }
   ],
   "source": [
    "allin.head()"
   ]
  },
  {
   "cell_type": "markdown",
   "metadata": {},
   "source": [
    "### Feature Engineering\n",
    "One hot encoding the hours column"
   ]
  },
  {
   "cell_type": "code",
   "execution_count": 31,
   "metadata": {},
   "outputs": [],
   "source": [
    "from sklearn.preprocessing import OneHotEncoder\n",
    "\n",
    "# creating instance of one-hot-encoder\n",
    "enc = OneHotEncoder(handle_unknown='ignore')\n",
    "\n",
    "# passing bridge-types-cat column (label encoded values of bridge_types)\n",
    "enc_df = pd.DataFrame(enc.fit_transform(allin[['hours']]).toarray())\n",
    "\n",
    "# merge with main df bridge_df on key values\n",
    "allin = allin.join(enc_df)"
   ]
  },
  {
   "cell_type": "code",
   "execution_count": 32,
   "metadata": {},
   "outputs": [],
   "source": [
    "allin=allin.drop(['hours'],axis=1)"
   ]
  },
  {
   "cell_type": "code",
   "execution_count": 35,
   "metadata": {},
   "outputs": [],
   "source": [
    "allin=allin.dropna()"
   ]
  },
  {
   "cell_type": "code",
   "execution_count": 36,
   "metadata": {},
   "outputs": [
    {
     "data": {
      "text/html": [
       "<div>\n",
       "<style scoped>\n",
       "    .dataframe tbody tr th:only-of-type {\n",
       "        vertical-align: middle;\n",
       "    }\n",
       "\n",
       "    .dataframe tbody tr th {\n",
       "        vertical-align: top;\n",
       "    }\n",
       "\n",
       "    .dataframe thead th {\n",
       "        text-align: right;\n",
       "    }\n",
       "</style>\n",
       "<table border=\"1\" class=\"dataframe\">\n",
       "  <thead>\n",
       "    <tr style=\"text-align: right;\">\n",
       "      <th></th>\n",
       "      <th>AvgTimeToPark</th>\n",
       "      <th>AvgTimeToParkRatio</th>\n",
       "      <th>TotalSearching</th>\n",
       "      <th>PercentSearching</th>\n",
       "      <th>AvgUniqueGeohashes</th>\n",
       "      <th>AvgTotalGeohashes</th>\n",
       "      <th>PercentCar</th>\n",
       "      <th>PercentMPV</th>\n",
       "      <th>PercentLDT</th>\n",
       "      <th>PercentMDT</th>\n",
       "      <th>...</th>\n",
       "      <th>14</th>\n",
       "      <th>15</th>\n",
       "      <th>16</th>\n",
       "      <th>17</th>\n",
       "      <th>18</th>\n",
       "      <th>19</th>\n",
       "      <th>20</th>\n",
       "      <th>21</th>\n",
       "      <th>22</th>\n",
       "      <th>23</th>\n",
       "    </tr>\n",
       "  </thead>\n",
       "  <tbody>\n",
       "    <tr>\n",
       "      <th>216</th>\n",
       "      <td>6.993</td>\n",
       "      <td>1.807</td>\n",
       "      <td>5</td>\n",
       "      <td>0.208</td>\n",
       "      <td>7.0</td>\n",
       "      <td>11.4</td>\n",
       "      <td>0.0</td>\n",
       "      <td>0.0</td>\n",
       "      <td>0.8</td>\n",
       "      <td>0.0</td>\n",
       "      <td>...</td>\n",
       "      <td>0.0</td>\n",
       "      <td>0.0</td>\n",
       "      <td>0.0</td>\n",
       "      <td>0.0</td>\n",
       "      <td>0.0</td>\n",
       "      <td>0.0</td>\n",
       "      <td>0.0</td>\n",
       "      <td>0.0</td>\n",
       "      <td>0.0</td>\n",
       "      <td>0.0</td>\n",
       "    </tr>\n",
       "    <tr>\n",
       "      <th>217</th>\n",
       "      <td>6.993</td>\n",
       "      <td>1.807</td>\n",
       "      <td>5</td>\n",
       "      <td>0.208</td>\n",
       "      <td>7.0</td>\n",
       "      <td>11.4</td>\n",
       "      <td>0.0</td>\n",
       "      <td>0.0</td>\n",
       "      <td>0.8</td>\n",
       "      <td>0.0</td>\n",
       "      <td>...</td>\n",
       "      <td>0.0</td>\n",
       "      <td>0.0</td>\n",
       "      <td>0.0</td>\n",
       "      <td>0.0</td>\n",
       "      <td>0.0</td>\n",
       "      <td>0.0</td>\n",
       "      <td>0.0</td>\n",
       "      <td>0.0</td>\n",
       "      <td>0.0</td>\n",
       "      <td>0.0</td>\n",
       "    </tr>\n",
       "    <tr>\n",
       "      <th>218</th>\n",
       "      <td>6.993</td>\n",
       "      <td>1.807</td>\n",
       "      <td>5</td>\n",
       "      <td>0.208</td>\n",
       "      <td>7.0</td>\n",
       "      <td>11.4</td>\n",
       "      <td>0.0</td>\n",
       "      <td>0.0</td>\n",
       "      <td>0.8</td>\n",
       "      <td>0.0</td>\n",
       "      <td>...</td>\n",
       "      <td>0.0</td>\n",
       "      <td>0.0</td>\n",
       "      <td>0.0</td>\n",
       "      <td>0.0</td>\n",
       "      <td>0.0</td>\n",
       "      <td>0.0</td>\n",
       "      <td>0.0</td>\n",
       "      <td>0.0</td>\n",
       "      <td>0.0</td>\n",
       "      <td>0.0</td>\n",
       "    </tr>\n",
       "    <tr>\n",
       "      <th>219</th>\n",
       "      <td>6.993</td>\n",
       "      <td>1.807</td>\n",
       "      <td>5</td>\n",
       "      <td>0.208</td>\n",
       "      <td>7.0</td>\n",
       "      <td>11.4</td>\n",
       "      <td>0.0</td>\n",
       "      <td>0.0</td>\n",
       "      <td>0.8</td>\n",
       "      <td>0.0</td>\n",
       "      <td>...</td>\n",
       "      <td>0.0</td>\n",
       "      <td>0.0</td>\n",
       "      <td>0.0</td>\n",
       "      <td>0.0</td>\n",
       "      <td>0.0</td>\n",
       "      <td>0.0</td>\n",
       "      <td>0.0</td>\n",
       "      <td>0.0</td>\n",
       "      <td>0.0</td>\n",
       "      <td>0.0</td>\n",
       "    </tr>\n",
       "    <tr>\n",
       "      <th>220</th>\n",
       "      <td>6.993</td>\n",
       "      <td>1.807</td>\n",
       "      <td>5</td>\n",
       "      <td>0.208</td>\n",
       "      <td>7.0</td>\n",
       "      <td>11.4</td>\n",
       "      <td>0.0</td>\n",
       "      <td>0.0</td>\n",
       "      <td>0.8</td>\n",
       "      <td>0.0</td>\n",
       "      <td>...</td>\n",
       "      <td>0.0</td>\n",
       "      <td>0.0</td>\n",
       "      <td>0.0</td>\n",
       "      <td>0.0</td>\n",
       "      <td>0.0</td>\n",
       "      <td>0.0</td>\n",
       "      <td>0.0</td>\n",
       "      <td>0.0</td>\n",
       "      <td>0.0</td>\n",
       "      <td>0.0</td>\n",
       "    </tr>\n",
       "  </tbody>\n",
       "</table>\n",
       "<p>5 rows × 39 columns</p>\n",
       "</div>"
      ],
      "text/plain": [
       "     AvgTimeToPark  AvgTimeToParkRatio  TotalSearching  PercentSearching  \\\n",
       "216          6.993               1.807               5             0.208   \n",
       "217          6.993               1.807               5             0.208   \n",
       "218          6.993               1.807               5             0.208   \n",
       "219          6.993               1.807               5             0.208   \n",
       "220          6.993               1.807               5             0.208   \n",
       "\n",
       "     AvgUniqueGeohashes  AvgTotalGeohashes  PercentCar  PercentMPV  \\\n",
       "216                 7.0               11.4         0.0         0.0   \n",
       "217                 7.0               11.4         0.0         0.0   \n",
       "218                 7.0               11.4         0.0         0.0   \n",
       "219                 7.0               11.4         0.0         0.0   \n",
       "220                 7.0               11.4         0.0         0.0   \n",
       "\n",
       "     PercentLDT  PercentMDT  ...   14   15   16   17   18   19   20   21   22  \\\n",
       "216         0.8         0.0  ...  0.0  0.0  0.0  0.0  0.0  0.0  0.0  0.0  0.0   \n",
       "217         0.8         0.0  ...  0.0  0.0  0.0  0.0  0.0  0.0  0.0  0.0  0.0   \n",
       "218         0.8         0.0  ...  0.0  0.0  0.0  0.0  0.0  0.0  0.0  0.0  0.0   \n",
       "219         0.8         0.0  ...  0.0  0.0  0.0  0.0  0.0  0.0  0.0  0.0  0.0   \n",
       "220         0.8         0.0  ...  0.0  0.0  0.0  0.0  0.0  0.0  0.0  0.0  0.0   \n",
       "\n",
       "      23  \n",
       "216  0.0  \n",
       "217  0.0  \n",
       "218  0.0  \n",
       "219  0.0  \n",
       "220  0.0  \n",
       "\n",
       "[5 rows x 39 columns]"
      ]
     },
     "execution_count": 36,
     "metadata": {},
     "output_type": "execute_result"
    }
   ],
   "source": [
    "allin.head()"
   ]
  },
  {
   "cell_type": "markdown",
   "metadata": {},
   "source": [
    "### Data Exploration"
   ]
  },
  {
   "cell_type": "markdown",
   "metadata": {},
   "source": [
    "#### Distribution plot for the average time to park for the data set "
   ]
  },
  {
   "cell_type": "code",
   "execution_count": 37,
   "metadata": {},
   "outputs": [
    {
     "data": {
      "image/png": "[encoded data removed]",
      "text/plain": [
       "<Figure size 432x288 with 1 Axes>"
      ]
     },
     "metadata": {
      "needs_background": "light"
     },
     "output_type": "display_data"
    }
   ],
   "source": [
    "sns.distplot(a=allin['AvgTimeToPark'])\n",
    "plt.savefig('distributionavgpark.png')"
   ]
  },
  {
   "cell_type": "markdown",
   "metadata": {},
   "source": [
    "#### the distribution plot is fairly normal with a peak of 4.5mins. It is also slightly skewed to the left. "
   ]
  },
  {
   "cell_type": "markdown",
   "metadata": {},
   "source": [
    "#### Correlation heat map for the correlation plot for the features used in the model"
   ]
  },
  {
   "cell_type": "code",
   "execution_count": 39,
   "metadata": {},
   "outputs": [],
   "source": [
    "parkcolumns = allin[[ 'AvgTimeToPark', 'AvgTimeToParkRatio',     'TotalSearching',\n",
    "         'PercentSearching', 'AvgUniqueGeohashes',         'PercentCar',\n",
    "               'PercentMPV',         'PercentLDT',         'PercentMDT',\n",
    "               'PercentHDT',      'search_values',          'hd_values',\n",
    "                      'pop',     'GDP_per_capita']]"
   ]
  },
  {
   "cell_type": "code",
   "execution_count": 40,
   "metadata": {},
   "outputs": [
    {
     "data": {
      "image/png": "[encoded data removed]",
      "text/plain": [
       "<Figure size 360x360 with 2 Axes>"
      ]
     },
     "metadata": {
      "needs_background": "light"
     },
     "output_type": "display_data"
    }
   ],
   "source": [
    "\n",
    "fig = plt.figure(figsize= (5,5))\n",
    "sns.heatmap(parkcolumns.corr(), annot=False, vmax=1, cmap='viridis', square=False)\n",
    "plt.savefig('correlationplot.png')"
   ]
  },
  {
   "cell_type": "markdown",
   "metadata": {},
   "source": [
    "#### decision to drop avgtotalGeohashes as it is highly correlated to the Average time to park which is the target variable in this analysis"
   ]
  },
  {
   "cell_type": "code",
   "execution_count": 37,
   "metadata": {},
   "outputs": [],
   "source": [
    "allin=allin.drop(['AvgTotalGeohashes'],axis=1)"
   ]
  },
  {
   "cell_type": "code",
   "execution_count": 38,
   "metadata": {},
   "outputs": [],
   "source": [
    "allin=allin.dropna()"
   ]
  },
  {
   "cell_type": "markdown",
   "metadata": {},
   "source": [
    "## Regression Analysis"
   ]
  },
  {
   "cell_type": "markdown",
   "metadata": {},
   "source": [
    "### Linear Regression"
   ]
  },
  {
   "cell_type": "code",
   "execution_count": 44,
   "metadata": {},
   "outputs": [],
   "source": [
    "#double check to make sure you import only once, no need for repetitions"
   ]
  },
  {
   "cell_type": "code",
   "execution_count": 39,
   "metadata": {},
   "outputs": [],
   "source": [
    "from sklearn.linear_model import ElasticNet\n",
    "from sklearn.model_selection import train_test_split\n",
    "from sklearn.metrics import mean_squared_error\n",
    "from sklearn.preprocessing import StandardScaler\n",
    "from sklearn.metrics import r2_score\n",
    "from sklearn.model_selection import RandomizedSearchCV"
   ]
  },
  {
   "cell_type": "code",
   "execution_count": 40,
   "metadata": {},
   "outputs": [],
   "source": [
    "X=allin.drop(['AvgTimeToPark'],axis=1)\n",
    "y=allin.AvgTimeToPark"
   ]
  },
  {
   "cell_type": "code",
   "execution_count": 41,
   "metadata": {},
   "outputs": [],
   "source": [
    "# Create a train test split\n",
    "X_train, X_test, y_train, y_test = train_test_split(X, y, test_size=0.3, random_state=0)"
   ]
  },
  {
   "cell_type": "code",
   "execution_count": 42,
   "metadata": {},
   "outputs": [
    {
     "name": "stderr",
     "output_type": "stream",
     "text": [
      "/home/jupyterlab/conda/envs/python/lib/python3.6/site-packages/sklearn/preprocessing/data.py:625: DataConversionWarning: Data with input dtype int64, float64 were all converted to float64 by StandardScaler.\n",
      "  return self.partial_fit(X, y)\n",
      "/home/jupyterlab/conda/envs/python/lib/python3.6/site-packages/ipykernel_launcher.py:4: DataConversionWarning: Data with input dtype int64, float64 were all converted to float64 by StandardScaler.\n",
      "  after removing the cwd from sys.path.\n",
      "/home/jupyterlab/conda/envs/python/lib/python3.6/site-packages/ipykernel_launcher.py:5: DataConversionWarning: Data with input dtype int64, float64 were all converted to float64 by StandardScaler.\n",
      "  \"\"\"\n"
     ]
    }
   ],
   "source": [
    "#Transform data\n",
    "scaler = StandardScaler()\n",
    "scaler.fit(X_train)\n",
    "X_train = scaler.transform(X_train)\n",
    "X_test = scaler.transform(X_test)"
   ]
  },
  {
   "cell_type": "code",
   "execution_count": 43,
   "metadata": {},
   "outputs": [],
   "source": [
    "#Default linear regression"
   ]
  },
  {
   "cell_type": "code",
   "execution_count": 44,
   "metadata": {},
   "outputs": [
    {
     "name": "stdout",
     "output_type": "stream",
     "text": [
      "R^2 score on training set: 0.105\n",
      "R^2 score on test set: 0.105\n"
     ]
    }
   ],
   "source": [
    "model = ElasticNet()\n",
    "model.fit(X_train, y_train)\n",
    "\n",
    "print(f\"R^2 score on training set: {model.score(X_train, y_train):0.3f}\")\n",
    "print(f\"R^2 score on test set: {model.score(X_test, y_test):0.3f}\")"
   ]
  },
  {
   "cell_type": "code",
   "execution_count": 57,
   "metadata": {},
   "outputs": [],
   "source": [
    "#defining the coefficients of the dataset\n",
    "coeff_df = pd.DataFrame(model.coef_, X.columns, columns=['Coefficient'])"
   ]
  },
  {
   "cell_type": "code",
   "execution_count": 58,
   "metadata": {},
   "outputs": [],
   "source": [
    "coeff1=coeff_df.sort_values(by=['Coefficient'], ascending=False)"
   ]
  },
  {
   "cell_type": "markdown",
   "metadata": {},
   "source": [
    "#### the most postive coefficients"
   ]
  },
  {
   "cell_type": "code",
   "execution_count": 59,
   "metadata": {},
   "outputs": [
    {
     "data": {
      "text/html": [
       "<div>\n",
       "<style scoped>\n",
       "    .dataframe tbody tr th:only-of-type {\n",
       "        vertical-align: middle;\n",
       "    }\n",
       "\n",
       "    .dataframe tbody tr th {\n",
       "        vertical-align: top;\n",
       "    }\n",
       "\n",
       "    .dataframe thead th {\n",
       "        text-align: right;\n",
       "    }\n",
       "</style>\n",
       "<table border=\"1\" class=\"dataframe\">\n",
       "  <thead>\n",
       "    <tr style=\"text-align: right;\">\n",
       "      <th></th>\n",
       "      <th>Coefficient</th>\n",
       "    </tr>\n",
       "  </thead>\n",
       "  <tbody>\n",
       "    <tr>\n",
       "      <th>pop</th>\n",
       "      <td>0.125907</td>\n",
       "    </tr>\n",
       "    <tr>\n",
       "      <th>AvgTimeToParkRatio</th>\n",
       "      <td>0.000000</td>\n",
       "    </tr>\n",
       "    <tr>\n",
       "      <th>14</th>\n",
       "      <td>0.000000</td>\n",
       "    </tr>\n",
       "    <tr>\n",
       "      <th>8</th>\n",
       "      <td>-0.000000</td>\n",
       "    </tr>\n",
       "    <tr>\n",
       "      <th>9</th>\n",
       "      <td>-0.000000</td>\n",
       "    </tr>\n",
       "  </tbody>\n",
       "</table>\n",
       "</div>"
      ],
      "text/plain": [
       "                    Coefficient\n",
       "pop                    0.125907\n",
       "AvgTimeToParkRatio     0.000000\n",
       "14                     0.000000\n",
       "8                     -0.000000\n",
       "9                     -0.000000"
      ]
     },
     "execution_count": 59,
     "metadata": {},
     "output_type": "execute_result"
    }
   ],
   "source": [
    "coeff1.head()"
   ]
  },
  {
   "cell_type": "markdown",
   "metadata": {},
   "source": [
    "#### the most negative coefficients"
   ]
  },
  {
   "cell_type": "code",
   "execution_count": 60,
   "metadata": {},
   "outputs": [
    {
     "data": {
      "text/html": [
       "<div>\n",
       "<style scoped>\n",
       "    .dataframe tbody tr th:only-of-type {\n",
       "        vertical-align: middle;\n",
       "    }\n",
       "\n",
       "    .dataframe tbody tr th {\n",
       "        vertical-align: top;\n",
       "    }\n",
       "\n",
       "    .dataframe thead th {\n",
       "        text-align: right;\n",
       "    }\n",
       "</style>\n",
       "<table border=\"1\" class=\"dataframe\">\n",
       "  <thead>\n",
       "    <tr style=\"text-align: right;\">\n",
       "      <th></th>\n",
       "      <th>Coefficient</th>\n",
       "    </tr>\n",
       "  </thead>\n",
       "  <tbody>\n",
       "    <tr>\n",
       "      <th>1</th>\n",
       "      <td>-0.000000</td>\n",
       "    </tr>\n",
       "    <tr>\n",
       "      <th>2</th>\n",
       "      <td>0.000000</td>\n",
       "    </tr>\n",
       "    <tr>\n",
       "      <th>3</th>\n",
       "      <td>-0.000000</td>\n",
       "    </tr>\n",
       "    <tr>\n",
       "      <th>23</th>\n",
       "      <td>-0.000000</td>\n",
       "    </tr>\n",
       "    <tr>\n",
       "      <th>PercentSearching</th>\n",
       "      <td>-0.128728</td>\n",
       "    </tr>\n",
       "  </tbody>\n",
       "</table>\n",
       "</div>"
      ],
      "text/plain": [
       "                  Coefficient\n",
       "1                   -0.000000\n",
       "2                    0.000000\n",
       "3                   -0.000000\n",
       "23                  -0.000000\n",
       "PercentSearching    -0.128728"
      ]
     },
     "execution_count": 60,
     "metadata": {},
     "output_type": "execute_result"
    }
   ],
   "source": [
    "coeff1.tail()"
   ]
  },
  {
   "cell_type": "code",
   "execution_count": 61,
   "metadata": {},
   "outputs": [],
   "source": [
    "y_pred = model.predict(X_test)"
   ]
  },
  {
   "cell_type": "code",
   "execution_count": 62,
   "metadata": {},
   "outputs": [
    {
     "name": "stdout",
     "output_type": "stream",
     "text": [
      "Mean Absolute Error: 1.353749593215758\n",
      "Mean Squared Error: 2.7388367118251944\n",
      "Root Mean Squared Error: 1.654943114377408\n"
     ]
    }
   ],
   "source": [
    "from sklearn import metrics\n",
    "print('Mean Absolute Error:', metrics.mean_absolute_error(y_test, y_pred))\n",
    "print('Mean Squared Error:', metrics.mean_squared_error(y_test, y_pred))\n",
    "print('Root Mean Squared Error:', np.sqrt(metrics.mean_squared_error(y_test, y_pred)))"
   ]
  },
  {
   "cell_type": "markdown",
   "metadata": {},
   "source": [
    "#### Hyper paramter tuning the linear regression to obtain the best linear model"
   ]
  },
  {
   "cell_type": "code",
   "execution_count": 87,
   "metadata": {},
   "outputs": [
    {
     "name": "stderr",
     "output_type": "stream",
     "text": [
      "/home/jupyterlab/conda/envs/python/lib/python3.6/site-packages/sklearn/linear_model/coordinate_descent.py:492: ConvergenceWarning: Objective did not converge. You might want to increase the number of iterations. Fitting data with very small alpha may cause precision problems.\n",
      "  ConvergenceWarning)\n"
     ]
    },
    {
     "name": "stdout",
     "output_type": "stream",
     "text": [
      "Tuned ElasticNet l1 ratio: {'l1_ratio': 0.46, 'alpha': 0.008497534359086439}\n",
      "Tuned ElasticNet R squared: 0.37883149141314554\n",
      "Tuned ElasticNet MSE: 1.901263989192625\n"
     ]
    }
   ],
   "source": [
    "# Create the hyperparameter grid\n",
    "\n",
    "params = dict()\n",
    "\n",
    "# values for alpha: 100 values between e^-5 and e^5\n",
    "params['alpha'] =  np.logspace(-5, 5, 100, endpoint=True)\n",
    "\n",
    "# values for l1_ratio: 100 values between 0 and 1\n",
    "params['l1_ratio'] = np.arange(0, 1, 0.01)\n",
    "\n",
    "\n",
    "# Instantiate the ElasticNet regressor: elastic_net\n",
    "elastic_net = ElasticNet(max_iter=10000, tol=0.001)\n",
    "\n",
    "# Setup the GridSearchCV object: gm_cv\n",
    "gm_cv = RandomizedSearchCV(elastic_net, params,n_iter=10, cv=5)\n",
    "\n",
    "# Fit it to the training data\n",
    "gm_cv.fit(X_train, y_train)\n",
    "\n",
    "# Predict on the test set and compute metrics\n",
    "y_pred = gm_cv.predict(X_test)\n",
    "r2 = gm_cv.score(X_test, y_test)\n",
    "mse = mean_squared_error(y_pred,y_test)\n",
    "print(\"Tuned ElasticNet l1 ratio: {}\".format(gm_cv.best_params_))\n",
    "print(\"Tuned ElasticNet R squared: {}\".format(r2))\n",
    "print(\"Tuned ElasticNet MSE: {}\".format(mse))"
   ]
  },
  {
   "cell_type": "code",
   "execution_count": 88,
   "metadata": {},
   "outputs": [
    {
     "data": {
      "text/plain": [
       "ElasticNet(alpha=0.008, copy_X=True, fit_intercept=True, l1_ratio=0.46,\n",
       "      max_iter=1000, normalize=False, positive=False, precompute=False,\n",
       "      random_state=None, selection='cyclic', tol=0.0001, warm_start=False)"
      ]
     },
     "execution_count": 88,
     "metadata": {},
     "output_type": "execute_result"
    }
   ],
   "source": [
    "gm_cv=ElasticNet(l1_ratio = 0.46,alpha=0.008)\n",
    "gm_cv.fit(X_train, y_train)"
   ]
  },
  {
   "cell_type": "code",
   "execution_count": 89,
   "metadata": {},
   "outputs": [],
   "source": [
    "acoeff_df = pd.DataFrame(gm_cv.coef_, X.columns, columns=['Coefficient'])"
   ]
  },
  {
   "cell_type": "code",
   "execution_count": 90,
   "metadata": {},
   "outputs": [],
   "source": [
    "acoeff1=acoeff_df.sort_values(by=['Coefficient'], ascending=False)"
   ]
  },
  {
   "cell_type": "code",
   "execution_count": 91,
   "metadata": {},
   "outputs": [
    {
     "data": {
      "text/html": [
       "<div>\n",
       "<style scoped>\n",
       "    .dataframe tbody tr th:only-of-type {\n",
       "        vertical-align: middle;\n",
       "    }\n",
       "\n",
       "    .dataframe tbody tr th {\n",
       "        vertical-align: top;\n",
       "    }\n",
       "\n",
       "    .dataframe thead th {\n",
       "        text-align: right;\n",
       "    }\n",
       "</style>\n",
       "<table border=\"1\" class=\"dataframe\">\n",
       "  <thead>\n",
       "    <tr style=\"text-align: right;\">\n",
       "      <th></th>\n",
       "      <th>Coefficient</th>\n",
       "    </tr>\n",
       "  </thead>\n",
       "  <tbody>\n",
       "    <tr>\n",
       "      <th>pop</th>\n",
       "      <td>0.562007</td>\n",
       "    </tr>\n",
       "    <tr>\n",
       "      <th>AvgUniqueGeohashes</th>\n",
       "      <td>0.424834</td>\n",
       "    </tr>\n",
       "    <tr>\n",
       "      <th>AvgTimeToParkRatio</th>\n",
       "      <td>0.294738</td>\n",
       "    </tr>\n",
       "    <tr>\n",
       "      <th>GDP_per_capita</th>\n",
       "      <td>0.202653</td>\n",
       "    </tr>\n",
       "    <tr>\n",
       "      <th>PercentLDT</th>\n",
       "      <td>0.045269</td>\n",
       "    </tr>\n",
       "  </tbody>\n",
       "</table>\n",
       "</div>"
      ],
      "text/plain": [
       "                    Coefficient\n",
       "pop                    0.562007\n",
       "AvgUniqueGeohashes     0.424834\n",
       "AvgTimeToParkRatio     0.294738\n",
       "GDP_per_capita         0.202653\n",
       "PercentLDT             0.045269"
      ]
     },
     "execution_count": 91,
     "metadata": {},
     "output_type": "execute_result"
    }
   ],
   "source": [
    "acoeff1.head()"
   ]
  },
  {
   "cell_type": "code",
   "execution_count": 92,
   "metadata": {},
   "outputs": [
    {
     "data": {
      "image/png": "[encoded data removed]",
      "text/plain": [
       "<Figure size 432x288 with 1 Axes>"
      ]
     },
     "metadata": {
      "needs_background": "light"
     },
     "output_type": "display_data"
    }
   ],
   "source": [
    "# Horizontal Bar Plot \n",
    "acoeff1.plot.bar()\n",
    "  \n",
    "# Show Plot \n",
    "plt.show() "
   ]
  },
  {
   "cell_type": "markdown",
   "metadata": {},
   "source": [
    "### Decision Tree Regression"
   ]
  },
  {
   "cell_type": "markdown",
   "metadata": {},
   "source": [
    "#### Initial Decision tree regressor"
   ]
  },
  {
   "cell_type": "code",
   "execution_count": 94,
   "metadata": {},
   "outputs": [],
   "source": [
    "from sklearn.tree import DecisionTreeRegressor\n",
    "from sklearn.metrics import mean_absolute_error\n",
    "from scipy.stats import randint"
   ]
  },
  {
   "cell_type": "code",
   "execution_count": 95,
   "metadata": {},
   "outputs": [
    {
     "name": "stdout",
     "output_type": "stream",
     "text": [
      "R^2 score on training set: 1.000\n",
      "R^2 score on test set: 1.000\n"
     ]
    }
   ],
   "source": [
    "DTmodel = DecisionTreeRegressor()\n",
    "DTmodel.fit(X_train, y_train)\n",
    "\n",
    "print(f\"R^2 score on training set: {DTmodel.score(X_train, y_train):0.3f}\")\n",
    "print(f\"R^2 score on test set: {DTmodel.score(X_test, y_test):0.3f}\")"
   ]
  },
  {
   "cell_type": "markdown",
   "metadata": {},
   "source": [
    "#### Optimized decision tree regression"
   ]
  },
  {
   "cell_type": "code",
   "execution_count": 100,
   "metadata": {},
   "outputs": [
    {
     "name": "stdout",
     "output_type": "stream",
     "text": [
      "Tuned Decision Tree Parameters: {'min_samples_leaf': 9, 'max_features': 11, 'max_depth': 18, 'criterion': 'mse'}\n",
      "Best score is 0.9634004877733294\n"
     ]
    }
   ],
   "source": [
    "# Setup the parameters and distributions to sample from: param_dist\n",
    "param_dist = {\"max_depth\": range(1,100),\n",
    "              \"max_features\": range(1, 37),\n",
    "              \"min_samples_leaf\": range(1, 100),\n",
    "              \"criterion\": ['mse']}\n",
    "\n",
    "\n",
    "# Instantiate a Decision Tree classifier: tree\n",
    "tree = DecisionTreeRegressor()\n",
    "\n",
    "# Instantiate the RandomizedSearchCV object: tree_cv\n",
    "tree_cv = RandomizedSearchCV(tree, param_dist, cv=5, n_iter=10)\n",
    "\n",
    "# Fit it to the data\n",
    "tree_cv.fit(X_train, y_train)\n",
    "\n",
    "# Print the tuned parameters and score\n",
    "print(\"Tuned Decision Tree Parameters: {}\".format(tree_cv.best_params_))\n",
    "print(\"Best score is {}\".format(tree_cv.best_score_))"
   ]
  },
  {
   "cell_type": "code",
   "execution_count": 101,
   "metadata": {},
   "outputs": [],
   "source": [
    "y_preds = tree_cv.predict(X_test)"
   ]
  },
  {
   "cell_type": "code",
   "execution_count": 102,
   "metadata": {},
   "outputs": [
    {
     "name": "stdout",
     "output_type": "stream",
     "text": [
      "R2_score: 0.9646480536220957\n",
      "Mean Absolute Error: 0.1044803888991423\n",
      "Mean Squared Error: 0.10820474906090631\n",
      "Root Mean Squared Error: 0.3289449027738632\n"
     ]
    }
   ],
   "source": [
    "from sklearn import metrics\n",
    "\n",
    "print('R2_score:', metrics.r2_score(y_test, y_preds))\n",
    "print('Mean Absolute Error:', metrics.mean_absolute_error(y_test, y_preds))\n",
    "print('Mean Squared Error:', metrics.mean_squared_error(y_test, y_preds))\n",
    "print('Root Mean Squared Error:', np.sqrt(metrics.mean_squared_error(y_test, y_preds)))"
   ]
  },
  {
   "cell_type": "markdown",
   "metadata": {},
   "source": [
    "### Feature importance for the Best Decision tree model"
   ]
  },
  {
   "cell_type": "code",
   "execution_count": 109,
   "metadata": {},
   "outputs": [
    {
     "name": "stdout",
     "output_type": "stream",
     "text": [
      "R^2 score on training set: 0.977\n",
      "R^2 score on test set: 0.974\n"
     ]
    }
   ],
   "source": [
    "DTmodels = DecisionTreeRegressor(min_samples_leaf=9, max_features=11, max_depth = 18)\n",
    "DTmodels.fit(X_train, y_train)\n",
    "\n",
    "print(f\"R^2 score on training set: {DTmodels.score(X_train, y_train):0.3f}\")\n",
    "print(f\"R^2 score on test set: {DTmodels.score(X_test, y_test):0.3f}\")"
   ]
  },
  {
   "cell_type": "code",
   "execution_count": 110,
   "metadata": {},
   "outputs": [
    {
     "data": {
      "image/png": "[encoded data removed]",
      "text/plain": [
       "<Figure size 432x288 with 1 Axes>"
      ]
     },
     "metadata": {
      "needs_background": "light"
     },
     "output_type": "display_data"
    }
   ],
   "source": [
    "importances = DTmodels.feature_importances_\n",
    "feat_names = X.columns\n",
    "tree_result = pd.DataFrame({'feature': feat_names, 'importance': importances})\n",
    "tree_result.sort_values(by='importance',ascending=False)[:15].plot(x='feature', y='importance', kind='bar',color='blue')\n",
    "plt.savefig('decisontreeimportantfeatures.png')"
   ]
  },
  {
   "cell_type": "markdown",
   "metadata": {},
   "source": [
    "#### initial random forest regressor"
   ]
  },
  {
   "cell_type": "code",
   "execution_count": 111,
   "metadata": {},
   "outputs": [],
   "source": [
    "from sklearn.metrics import mean_squared_error\n",
    "from sklearn.ensemble import RandomForestRegressor\n",
    "from sklearn import preprocessing\n",
    "from sklearn.model_selection import cross_validate"
   ]
  },
  {
   "cell_type": "code",
   "execution_count": 112,
   "metadata": {},
   "outputs": [
    {
     "name": "stderr",
     "output_type": "stream",
     "text": [
      "/home/jupyterlab/conda/envs/python/lib/python3.6/site-packages/sklearn/ensemble/forest.py:246: FutureWarning: The default value of n_estimators will change from 10 in version 0.20 to 100 in 0.22.\n",
      "  \"10 in version 0.20 to 100 in 0.22.\", FutureWarning)\n"
     ]
    },
    {
     "data": {
      "text/plain": [
       "RandomForestRegressor(bootstrap=True, criterion='mse', max_depth=None,\n",
       "           max_features='auto', max_leaf_nodes=None,\n",
       "           min_impurity_decrease=0.0, min_impurity_split=None,\n",
       "           min_samples_leaf=1, min_samples_split=2,\n",
       "           min_weight_fraction_leaf=0.0, n_estimators=10, n_jobs=None,\n",
       "           oob_score=False, random_state=None, verbose=0, warm_start=False)"
      ]
     },
     "execution_count": 112,
     "metadata": {},
     "output_type": "execute_result"
    }
   ],
   "source": [
    "#fitting the initial random forest regressor to the training data\n",
    "random = RandomForestRegressor()\n",
    "random.fit(X_train, y_train)"
   ]
  },
  {
   "cell_type": "code",
   "execution_count": 113,
   "metadata": {},
   "outputs": [],
   "source": [
    "y_preda = random.predict(X_test)"
   ]
  },
  {
   "cell_type": "code",
   "execution_count": 114,
   "metadata": {},
   "outputs": [
    {
     "name": "stdout",
     "output_type": "stream",
     "text": [
      "R2_score: 1.0\n",
      "Mean Absolute Error: 6.349364781017752e-16\n",
      "Mean Squared Error: 8.284171198040702e-31\n",
      "Root Mean Squared Error: 9.101742249723786e-16\n"
     ]
    }
   ],
   "source": [
    "from sklearn import metrics\n",
    "\n",
    "print('R2_score:', metrics.r2_score(y_test, y_preda))\n",
    "print('Mean Absolute Error:', metrics.mean_absolute_error(y_test, y_preda))\n",
    "print('Mean Squared Error:', metrics.mean_squared_error(y_test, y_preda))\n",
    "print('Root Mean Squared Error:', np.sqrt(metrics.mean_squared_error(y_test, y_preda)))"
   ]
  },
  {
   "cell_type": "markdown",
   "metadata": {},
   "source": [
    "#### Another Random Forest Regressor using RandomizedsearchCV"
   ]
  },
  {
   "cell_type": "code",
   "execution_count": 115,
   "metadata": {},
   "outputs": [],
   "source": [
    "random_grid = {\"max_depth\": range(1,100),\n",
    "              \"max_features\": range(1,37),\n",
    "              \"min_samples_leaf\": range(1,100),\n",
    "               'n_estimators':range(1,100),\n",
    "              \"criterion\": ['mse']}\n",
    "\n",
    "#make sure you tune n_estimators for random forest "
   ]
  },
  {
   "cell_type": "code",
   "execution_count": 118,
   "metadata": {},
   "outputs": [
    {
     "data": {
      "text/plain": [
       "{'n_estimators': 71,\n",
       " 'min_samples_leaf': 12,\n",
       " 'max_features': 26,\n",
       " 'max_depth': 13,\n",
       " 'criterion': 'mse'}"
      ]
     },
     "execution_count": 118,
     "metadata": {},
     "output_type": "execute_result"
    }
   ],
   "source": [
    "# Use the random grid to search for best hyperparameters\n",
    "# First create the base model to tune\n",
    "rf = RandomForestRegressor()\n",
    "# Random search of parameters, using 3 fold cross validation,\n",
    "# search across 100 different combinations, and use all available cores\n",
    "rf_random = RandomizedSearchCV(estimator = rf, param_distributions = random_grid, cv = 5,n_iter=10)\n",
    "\n",
    "# Fit the random search model\n",
    "rf_random.fit(X_train, y_train)\n",
    "rf_random.best_params_"
   ]
  },
  {
   "cell_type": "code",
   "execution_count": 119,
   "metadata": {},
   "outputs": [],
   "source": [
    "ans = rf_random.predict(X_test)"
   ]
  },
  {
   "cell_type": "code",
   "execution_count": 120,
   "metadata": {},
   "outputs": [
    {
     "name": "stdout",
     "output_type": "stream",
     "text": [
      "r2_score: 0.9616764015829949\n",
      "Mean Absolute Error: 0.247110148830652\n",
      "Mean Squared Error: 0.11730034056667439\n",
      "Root Mean Squared Error: 0.3424913729813853\n"
     ]
    }
   ],
   "source": [
    "from sklearn import metrics\n",
    "\n",
    "print('r2_score:', metrics.r2_score(y_test, ans))\n",
    "print('Mean Absolute Error:', metrics.mean_absolute_error(y_test, ans))\n",
    "print('Mean Squared Error:', metrics.mean_squared_error(y_test, ans))\n",
    "print('Root Mean Squared Error:', np.sqrt(metrics.mean_squared_error(y_test, ans)))"
   ]
  },
  {
   "cell_type": "markdown",
   "metadata": {},
   "source": [
    "#### Feature importance based on the optimized random forest model"
   ]
  },
  {
   "cell_type": "code",
   "execution_count": 121,
   "metadata": {},
   "outputs": [],
   "source": [
    "#best parameter random forest model\n",
    "best_rf = RandomForestRegressor(n_estimators=71,\n",
    " min_samples_leaf= 12,\n",
    " max_features= 26,\n",
    " max_depth= 13)"
   ]
  },
  {
   "cell_type": "code",
   "execution_count": 122,
   "metadata": {},
   "outputs": [
    {
     "data": {
      "text/plain": [
       "RandomForestRegressor(bootstrap=True, criterion='mse', max_depth=13,\n",
       "           max_features=26, max_leaf_nodes=None, min_impurity_decrease=0.0,\n",
       "           min_impurity_split=None, min_samples_leaf=12,\n",
       "           min_samples_split=2, min_weight_fraction_leaf=0.0,\n",
       "           n_estimators=71, n_jobs=None, oob_score=False,\n",
       "           random_state=None, verbose=0, warm_start=False)"
      ]
     },
     "execution_count": 122,
     "metadata": {},
     "output_type": "execute_result"
    }
   ],
   "source": [
    "best_rf.fit(X_train, y_train)"
   ]
  },
  {
   "cell_type": "code",
   "execution_count": 123,
   "metadata": {},
   "outputs": [
    {
     "data": {
      "image/png": "[encoded data removed]",
      "text/plain": [
       "<Figure size 432x288 with 1 Axes>"
      ]
     },
     "metadata": {
      "needs_background": "light"
     },
     "output_type": "display_data"
    }
   ],
   "source": [
    "importances = best_rf.feature_importances_\n",
    "feat_names = X.columns\n",
    "tree_result = pd.DataFrame({'feature': feat_names, 'importance': importances})\n",
    "tree_result.sort_values(by='importance',ascending=False)[:15].plot(x='feature', y='importance', kind='bar',color='blue')\n",
    "plt.savefig('rfmodel.png')"
   ]
  }
 ],
 "metadata": {
  "kernelspec": {
   "display_name": "Python",
   "language": "python",
   "name": "conda-env-python-py"
  },
  "language_info": {
   "codemirror_mode": {
    "name": "ipython",
    "version": 3
   },
   "file_extension": ".py",
   "mimetype": "text/x-python",
   "name": "python",
   "nbconvert_exporter": "python",
   "pygments_lexer": "ipython3",
   "version": "3.6.12"
  }
 },
 "nbformat": 4,
 "nbformat_minor": 4
}
